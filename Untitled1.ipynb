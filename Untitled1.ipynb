{
 "cells": [
  {
   "cell_type": "code",
   "execution_count": 108,
   "id": "301265fb",
   "metadata": {},
   "outputs": [],
   "source": [
    "import pandas as pd\n",
    "import numpy as np\n",
    "import seaborn as sns\n",
    "import warnings\n",
    "warnings.filterwarnings(\"ignore\")\n",
    "\n",
    "df = pd.read_csv('KO.csv')"
   ]
  },
  {
   "cell_type": "code",
   "execution_count": 109,
   "id": "c982c153",
   "metadata": {},
   "outputs": [
    {
     "name": "stdout",
     "output_type": "stream",
     "text": [
      "[[-0.78564349 -0.7861948  -0.78495416 ... -1.04338869 -0.07871545\n",
      "  -0.02264769]\n",
      " [-0.78569413 -0.78633725 -0.78508168 ... -0.94698403 -0.07871545\n",
      "  -0.02264769]\n",
      " [-0.78571101 -0.78631211 -0.78502216 ... -1.03856846 -0.07871545\n",
      "  -0.02264769]\n",
      " ...\n",
      " [ 3.47700144  3.4722217   3.49846784 ...  0.27495766 -0.07871545\n",
      "  -0.02264769]\n",
      " [ 3.47429432  3.47490981  3.47869697 ...  0.44984175 -0.07871545\n",
      "  -0.02264769]\n",
      " [ 3.47497104  3.47423791  3.47051601 ...  0.70449819 -0.07871545\n",
      "  -0.02264769]]\n",
      "(15236, 7)\n"
     ]
    }
   ],
   "source": [
    "from sklearn.preprocessing import StandardScaler\n",
    "\n",
    "df_date = df.set_index( pd.DatetimeIndex(df['Date'].values))\n",
    "df_date = df_date.drop(['Date'],axis=1)\n",
    "\n",
    "scaler = StandardScaler()\n",
    "\n",
    "df_std = scaler.fit_transform(df_date)\n",
    "\n",
    "print(df_std)\n",
    "print(df_std.shape)"
   ]
  },
  {
   "cell_type": "code",
   "execution_count": 69,
   "id": "8e70e79e",
   "metadata": {},
   "outputs": [],
   "source": [
    "def get_iqr_values(df_in, col_name):\n",
    "    median = df_in[col_name].median()\n",
    "    q1 = df_in[col_name].quantile(0.25) # 25th percentile / 1st quartile\n",
    "    q3 = df_in[col_name].quantile(0.75) # 7th percentile / 3rd quartile\n",
    "    iqr = q3-q1 #Interquartile range\n",
    "    minimum  = q1-1.5*iqr # The minimum value or the |- marker in the box plot\n",
    "    maximum = q3+1.5*iqr # The maximum value or the -| marker in the box plot\n",
    "    return median, q1, q3, iqr, minimum, maximum\n",
    "\n",
    "def get_iqr_text(df_in, col_name):\n",
    "    median, q1, q3, iqr, minimum, maximum = get_iqr_values(df_in, col_name)\n",
    "    text = f\"median={median:.2f}, q1={q1:.2f}, q3={q3:.2f}, iqr={iqr:.2f}, minimum={minimum:.2f}, maximum={maximum:.2f}\"\n",
    "    return text\n",
    "\n",
    "def remove_outliers(df_in, col_name):\n",
    "    _, _, _, _, minimum, maximum = get_iqr_values(df_in, col_name)\n",
    "    df_out = df_in.loc[(df_in[col_name] > minimum) & (df_in[col_name] < maximum)]\n",
    "    return df_out\n",
    "\n",
    "def count_outliers(df_in, col_name):\n",
    "    _, _, _, _, minimum, maximum = get_iqr_values(df_in, col_name)\n",
    "    df_outliers = df_in.loc[(df_in[col_name] <= minimum) | (df_in[col_name] >= maximum)]\n",
    "    return df_outliers.shape[0]\n",
    "\n",
    "def box_and_whisker(df_in, col_name):\n",
    "    title = get_iqr_text(df_in, col_name)\n",
    "    sns.boxplot(df_in[col_name])\n",
    "    plt.title(title)\n",
    "    plt.show()"
   ]
  },
  {
   "cell_type": "code",
   "execution_count": 72,
   "id": "279015f7",
   "metadata": {},
   "outputs": [
    {
     "ename": "IndexError",
     "evalue": "only integers, slices (`:`), ellipsis (`...`), numpy.newaxis (`None`) and integer or boolean arrays are valid indices",
     "output_type": "error",
     "traceback": [
      "\u001b[1;31m---------------------------------------------------------------------------\u001b[0m",
      "\u001b[1;31mIndexError\u001b[0m                                Traceback (most recent call last)",
      "Input \u001b[1;32mIn [72]\u001b[0m, in \u001b[0;36m<cell line: 2>\u001b[1;34m()\u001b[0m\n\u001b[0;32m      1\u001b[0m \u001b[38;5;66;03m#Ploting the boxplot of each variable\u001b[39;00m\n\u001b[1;32m----> 2\u001b[0m \u001b[43mbox_and_whisker\u001b[49m\u001b[43m(\u001b[49m\u001b[43mdf_std\u001b[49m\u001b[43m,\u001b[49m\u001b[43m \u001b[49m\u001b[38;5;124;43m'\u001b[39;49m\u001b[38;5;124;43mOpen\u001b[39;49m\u001b[38;5;124;43m'\u001b[39;49m\u001b[43m)\u001b[49m\n\u001b[0;32m      3\u001b[0m \u001b[38;5;28mprint\u001b[39m(\u001b[38;5;124mf\u001b[39m\u001b[38;5;124m\"\u001b[39m\u001b[38;5;124mViariable \u001b[39m\u001b[38;5;124m'\u001b[39m\u001b[38;5;124mOpen\u001b[39m\u001b[38;5;124m'\u001b[39m\u001b[38;5;124m has \u001b[39m\u001b[38;5;132;01m{\u001b[39;00mcount_outliers(df_std,\u001b[38;5;124m'\u001b[39m\u001b[38;5;124mOpen\u001b[39m\u001b[38;5;124m'\u001b[39m)\u001b[38;5;132;01m}\u001b[39;00m\u001b[38;5;124m outliers\u001b[39m\u001b[38;5;124m\"\u001b[39m)\n\u001b[0;32m      4\u001b[0m box_and_whisker(standardized_data, \u001b[38;5;124m'\u001b[39m\u001b[38;5;124mHigh\u001b[39m\u001b[38;5;124m'\u001b[39m)\n",
      "Input \u001b[1;32mIn [69]\u001b[0m, in \u001b[0;36mbox_and_whisker\u001b[1;34m(df_in, col_name)\u001b[0m\n\u001b[0;32m     25\u001b[0m \u001b[38;5;28;01mdef\u001b[39;00m \u001b[38;5;21mbox_and_whisker\u001b[39m(df_in, col_name):\n\u001b[1;32m---> 26\u001b[0m     title \u001b[38;5;241m=\u001b[39m \u001b[43mget_iqr_text\u001b[49m\u001b[43m(\u001b[49m\u001b[43mdf_in\u001b[49m\u001b[43m,\u001b[49m\u001b[43m \u001b[49m\u001b[43mcol_name\u001b[49m\u001b[43m)\u001b[49m\n\u001b[0;32m     27\u001b[0m     sns\u001b[38;5;241m.\u001b[39mboxplot(df_in[col_name])\n\u001b[0;32m     28\u001b[0m     plt\u001b[38;5;241m.\u001b[39mtitle(title)\n",
      "Input \u001b[1;32mIn [69]\u001b[0m, in \u001b[0;36mget_iqr_text\u001b[1;34m(df_in, col_name)\u001b[0m\n\u001b[0;32m     10\u001b[0m \u001b[38;5;28;01mdef\u001b[39;00m \u001b[38;5;21mget_iqr_text\u001b[39m(df_in, col_name):\n\u001b[1;32m---> 11\u001b[0m     median, q1, q3, iqr, minimum, maximum \u001b[38;5;241m=\u001b[39m \u001b[43mget_iqr_values\u001b[49m\u001b[43m(\u001b[49m\u001b[43mdf_in\u001b[49m\u001b[43m,\u001b[49m\u001b[43m \u001b[49m\u001b[43mcol_name\u001b[49m\u001b[43m)\u001b[49m\n\u001b[0;32m     12\u001b[0m     text \u001b[38;5;241m=\u001b[39m \u001b[38;5;124mf\u001b[39m\u001b[38;5;124m\"\u001b[39m\u001b[38;5;124mmedian=\u001b[39m\u001b[38;5;132;01m{\u001b[39;00mmedian\u001b[38;5;132;01m:\u001b[39;00m\u001b[38;5;124m.2f\u001b[39m\u001b[38;5;132;01m}\u001b[39;00m\u001b[38;5;124m, q1=\u001b[39m\u001b[38;5;132;01m{\u001b[39;00mq1\u001b[38;5;132;01m:\u001b[39;00m\u001b[38;5;124m.2f\u001b[39m\u001b[38;5;132;01m}\u001b[39;00m\u001b[38;5;124m, q3=\u001b[39m\u001b[38;5;132;01m{\u001b[39;00mq3\u001b[38;5;132;01m:\u001b[39;00m\u001b[38;5;124m.2f\u001b[39m\u001b[38;5;132;01m}\u001b[39;00m\u001b[38;5;124m, iqr=\u001b[39m\u001b[38;5;132;01m{\u001b[39;00miqr\u001b[38;5;132;01m:\u001b[39;00m\u001b[38;5;124m.2f\u001b[39m\u001b[38;5;132;01m}\u001b[39;00m\u001b[38;5;124m, minimum=\u001b[39m\u001b[38;5;132;01m{\u001b[39;00mminimum\u001b[38;5;132;01m:\u001b[39;00m\u001b[38;5;124m.2f\u001b[39m\u001b[38;5;132;01m}\u001b[39;00m\u001b[38;5;124m, maximum=\u001b[39m\u001b[38;5;132;01m{\u001b[39;00mmaximum\u001b[38;5;132;01m:\u001b[39;00m\u001b[38;5;124m.2f\u001b[39m\u001b[38;5;132;01m}\u001b[39;00m\u001b[38;5;124m\"\u001b[39m\n\u001b[0;32m     13\u001b[0m     \u001b[38;5;28;01mreturn\u001b[39;00m text\n",
      "Input \u001b[1;32mIn [69]\u001b[0m, in \u001b[0;36mget_iqr_values\u001b[1;34m(df_in, col_name)\u001b[0m\n\u001b[0;32m      1\u001b[0m \u001b[38;5;28;01mdef\u001b[39;00m \u001b[38;5;21mget_iqr_values\u001b[39m(df_in, col_name):\n\u001b[1;32m----> 2\u001b[0m     median \u001b[38;5;241m=\u001b[39m \u001b[43mdf_in\u001b[49m\u001b[43m[\u001b[49m\u001b[43mcol_name\u001b[49m\u001b[43m]\u001b[49m\u001b[38;5;241m.\u001b[39mmedian()\n\u001b[0;32m      3\u001b[0m     q1 \u001b[38;5;241m=\u001b[39m df_in[col_name]\u001b[38;5;241m.\u001b[39mquantile(\u001b[38;5;241m0.25\u001b[39m) \u001b[38;5;66;03m# 25th percentile / 1st quartile\u001b[39;00m\n\u001b[0;32m      4\u001b[0m     q3 \u001b[38;5;241m=\u001b[39m df_in[col_name]\u001b[38;5;241m.\u001b[39mquantile(\u001b[38;5;241m0.75\u001b[39m) \u001b[38;5;66;03m# 7th percentile / 3rd quartile\u001b[39;00m\n",
      "\u001b[1;31mIndexError\u001b[0m: only integers, slices (`:`), ellipsis (`...`), numpy.newaxis (`None`) and integer or boolean arrays are valid indices"
     ]
    }
   ],
   "source": [
    "#Ploting the boxplot of each variable\n",
    "box_and_whisker(df_std, 'Open')\n",
    "print(f\"Viariable 'Open' has {count_outliers(df_std,'Open')} outliers\")\n",
    "box_and_whisker(standardized_data, 'High')\n",
    "print(f\"Variable 'High' has {count_outliers(standardized_data, 'High')} outliers\")\n",
    "box_and_whisker(standardized_data, 'Low')\n",
    "print(f\"Variable 'Low' has {count_outliers(standardized_data, 'Low')} outliers\")\n",
    "box_and_whisker(standardized_data, 'Close')\n",
    "print(f\"Variable 'Close' has {count_outliers(standardized_data,'Close')} outliers\")\n",
    "box_and_whisker(standardized_data, 'Volume')\n",
    "print(f\"Variable 'Volume' has {count_outliers(standardized_data, 'Volume')} outliers\")"
   ]
  },
  {
   "cell_type": "code",
   "execution_count": 67,
   "id": "b2b8b618",
   "metadata": {},
   "outputs": [
    {
     "name": "stdout",
     "output_type": "stream",
     "text": [
      "rows before removing: 15236\n"
     ]
    },
    {
     "ename": "IndexError",
     "evalue": "only integers, slices (`:`), ellipsis (`...`), numpy.newaxis (`None`) and integer or boolean arrays are valid indices",
     "output_type": "error",
     "traceback": [
      "\u001b[1;31m---------------------------------------------------------------------------\u001b[0m",
      "\u001b[1;31mIndexError\u001b[0m                                Traceback (most recent call last)",
      "Input \u001b[1;32mIn [67]\u001b[0m, in \u001b[0;36m<cell line: 2>\u001b[1;34m()\u001b[0m\n\u001b[0;32m      1\u001b[0m \u001b[38;5;28mprint\u001b[39m(\u001b[38;5;124mf\u001b[39m\u001b[38;5;124m\"\u001b[39m\u001b[38;5;124mrows before removing: \u001b[39m\u001b[38;5;132;01m{\u001b[39;00mdf_std\u001b[38;5;241m.\u001b[39mshape[\u001b[38;5;241m0\u001b[39m]\u001b[38;5;132;01m}\u001b[39;00m\u001b[38;5;124m\"\u001b[39m)\n\u001b[1;32m----> 2\u001b[0m df1 \u001b[38;5;241m=\u001b[39m \u001b[43mremove_outliers\u001b[49m\u001b[43m(\u001b[49m\u001b[43mdf_std\u001b[49m\u001b[43m,\u001b[49m\u001b[43m \u001b[49m\u001b[38;5;124;43m\"\u001b[39;49m\u001b[38;5;124;43m\"\u001b[39;49m\u001b[43m)\u001b[49m\n\u001b[0;32m      3\u001b[0m \u001b[38;5;28mprint\u001b[39m(\u001b[38;5;124mf\u001b[39m\u001b[38;5;124m\"\u001b[39m\u001b[38;5;124mrows after removing: \u001b[39m\u001b[38;5;132;01m{\u001b[39;00mdf_\u001b[38;5;241m.\u001b[39mshape[\u001b[38;5;241m0\u001b[39m]\u001b[38;5;132;01m}\u001b[39;00m\u001b[38;5;124m\"\u001b[39m)\n",
      "Input \u001b[1;32mIn [54]\u001b[0m, in \u001b[0;36mremove_outliers\u001b[1;34m(df_in, col_name)\u001b[0m\n\u001b[0;32m     15\u001b[0m \u001b[38;5;28;01mdef\u001b[39;00m \u001b[38;5;21mremove_outliers\u001b[39m(df_in, col_name):\n\u001b[1;32m---> 16\u001b[0m     _, _, _, _, minimum, maximum \u001b[38;5;241m=\u001b[39m \u001b[43mget_iqr_values\u001b[49m\u001b[43m(\u001b[49m\u001b[43mdf_in\u001b[49m\u001b[43m,\u001b[49m\u001b[43m \u001b[49m\u001b[43mcol_name\u001b[49m\u001b[43m)\u001b[49m\n\u001b[0;32m     17\u001b[0m     df_out \u001b[38;5;241m=\u001b[39m df_in\u001b[38;5;241m.\u001b[39mloc[(df_in[col_name] \u001b[38;5;241m>\u001b[39m minimum) \u001b[38;5;241m&\u001b[39m (df_in[col_name] \u001b[38;5;241m<\u001b[39m maximum)]\n\u001b[0;32m     18\u001b[0m     \u001b[38;5;28;01mreturn\u001b[39;00m df_out\n",
      "Input \u001b[1;32mIn [54]\u001b[0m, in \u001b[0;36mget_iqr_values\u001b[1;34m(df_in, col_name)\u001b[0m\n\u001b[0;32m      1\u001b[0m \u001b[38;5;28;01mdef\u001b[39;00m \u001b[38;5;21mget_iqr_values\u001b[39m(df_in, col_name):\n\u001b[1;32m----> 2\u001b[0m     median \u001b[38;5;241m=\u001b[39m \u001b[43mdf_in\u001b[49m\u001b[43m[\u001b[49m\u001b[43mcol_name\u001b[49m\u001b[43m]\u001b[49m\u001b[38;5;241m.\u001b[39mmedian()\n\u001b[0;32m      3\u001b[0m     q1 \u001b[38;5;241m=\u001b[39m df_in[col_name]\u001b[38;5;241m.\u001b[39mquantile(\u001b[38;5;241m0.25\u001b[39m) \u001b[38;5;66;03m# 25th percentile / 1st quartile\u001b[39;00m\n\u001b[0;32m      4\u001b[0m     q3 \u001b[38;5;241m=\u001b[39m df_in[col_name]\u001b[38;5;241m.\u001b[39mquantile(\u001b[38;5;241m0.75\u001b[39m) \u001b[38;5;66;03m# 7th percentile / 3rd quartile\u001b[39;00m\n",
      "\u001b[1;31mIndexError\u001b[0m: only integers, slices (`:`), ellipsis (`...`), numpy.newaxis (`None`) and integer or boolean arrays are valid indices"
     ]
    }
   ],
   "source": [
    "print(f\"rows before removing: {df_std.shape[0]}\")\n",
    "df1 = remove_outliers(df_std, \"\")\n",
    "print(f\"rows after removing: {df_.shape[0]}\")"
   ]
  },
  {
   "cell_type": "code",
   "execution_count": null,
   "id": "3d72d4c9",
   "metadata": {},
   "outputs": [],
   "source": []
  }
 ],
 "metadata": {
  "kernelspec": {
   "display_name": "Python 3 (ipykernel)",
   "language": "python",
   "name": "python3"
  },
  "language_info": {
   "codemirror_mode": {
    "name": "ipython",
    "version": 3
   },
   "file_extension": ".py",
   "mimetype": "text/x-python",
   "name": "python",
   "nbconvert_exporter": "python",
   "pygments_lexer": "ipython3",
   "version": "3.9.12"
  }
 },
 "nbformat": 4,
 "nbformat_minor": 5
}
